{
 "cells": [
  {
   "cell_type": "markdown",
   "metadata": {},
   "source": [
    "# Digits to Calculator"
   ]
  },
  {
   "cell_type": "markdown",
   "metadata": {},
   "source": [
    "Based on https://towardsdatascience.com/building-a-handwritten-multi-digit-calculator-f03cf5028052"
   ]
  },
  {
   "cell_type": "markdown",
   "metadata": {},
   "source": [
    "### Pre processing"
   ]
  },
  {
   "cell_type": "code",
   "execution_count": 5,
   "metadata": {},
   "outputs": [
    {
     "name": "stdout",
     "output_type": "stream",
     "text": [
      "INFO:tensorflow:Enabling eager execution\n",
      "INFO:tensorflow:Enabling v2 tensorshape\n",
      "INFO:tensorflow:Enabling resource variables\n",
      "INFO:tensorflow:Enabling tensor equality\n",
      "INFO:tensorflow:Enabling control flow v2\n"
     ]
    }
   ],
   "source": [
    "import numpy as np \n",
    "import pandas as pd\n",
    "from sklearn.model_selection import train_test_split\n",
    "from keras.utils.np_utils import to_categorical\n",
    "import seaborn as sns"
   ]
  },
  {
   "cell_type": "code",
   "execution_count": 2,
   "metadata": {},
   "outputs": [],
   "source": [
    "df = pd.read_csv(\"dataset.csv\")"
   ]
  },
  {
   "cell_type": "code",
   "execution_count": 3,
   "metadata": {},
   "outputs": [],
   "source": [
    "#Labels\n",
    "y = df[\"label\"]\n",
    "\n",
    "#Variables\n",
    "X = df.drop(labels = [\"label\"], axis = 1)\n",
    "\n",
    "#Delete to memory use\n",
    "del df"
   ]
  },
  {
   "cell_type": "code",
   "execution_count": 4,
   "metadata": {},
   "outputs": [
    {
     "data": {
      "image/png": "[encoded data removed]",
      "text/plain": [
       "<Figure size 432x288 with 1 Axes>"
      ]
     },
     "metadata": {
      "needs_background": "light"
     },
     "output_type": "display_data"
    }
   ],
   "source": [
    "#Pre Analising\n",
    "g = sns.countplot(y)"
   ]
  },
  {
   "cell_type": "code",
   "execution_count": 5,
   "metadata": {},
   "outputs": [],
   "source": [
    "#Normalization\n",
    "X = X / 255.0\n",
    "\n",
    "#Reshape Dataset\n",
    "X = X.values.reshape(-1,28,28,1)\n",
    "\n",
    "#Enconding\n",
    "y = to_categorical(y, num_classes = 14)\n",
    "\n",
    "#Dividing in train and test\n",
    "X_train, X_val, y_train, y_val = train_test_split(X, y, test_size = 0.2,stratify = y)"
   ]
  },
  {
   "cell_type": "markdown",
   "metadata": {},
   "source": [
    "### Neural Network"
   ]
  },
  {
   "cell_type": "code",
   "execution_count": 7,
   "metadata": {},
   "outputs": [],
   "source": [
    "from keras.models import Sequential\n",
    "from keras.layers import Dense, Dropout, Flatten, Conv2D, MaxPool2D\n",
    "from keras.optimizers import RMSprop\n",
    "from keras.preprocessing.image import ImageDataGenerator\n",
    "from keras.callbacks import ReduceLROnPlateau\n",
    "from tensorflow import keras"
   ]
  },
  {
   "cell_type": "code",
   "execution_count": 7,
   "metadata": {},
   "outputs": [
    {
     "name": "stderr",
     "output_type": "stream",
     "text": [
      "C:\\Users\\mateu\\anaconda3\\lib\\site-packages\\tensorflow\\python\\keras\\optimizer_v2\\optimizer_v2.py:375: UserWarning: The `lr` argument is deprecated, use `learning_rate` instead.\n",
      "  \"The `lr` argument is deprecated, use `learning_rate` instead.\")\n"
     ]
    }
   ],
   "source": [
    "#Creating model\n",
    "model = Sequential()\n",
    "\n",
    "\n",
    "#Layer: 1\n",
    "model.add(Conv2D(filters = 32, kernel_size = (5,5), padding = \"Same\", activation = \"relu\", input_shape = (28, 28, 1)))\n",
    "model.add(Conv2D(filters = 32, kernel_size = (5,5), padding = \"Same\", activation = \"relu\"))\n",
    "model.add(MaxPool2D(pool_size = (2,2)))\n",
    "model.add(Dropout(0.25))\n",
    "\n",
    "#Layer: 2\n",
    "model.add(Conv2D(filters = 64, kernel_size = (3,3), padding = \"Same\", activation = \"relu\"))\n",
    "model.add(Conv2D(filters = 64, kernel_size = (3,3), padding = \"Same\", activation = \"relu\"))\n",
    "model.add(MaxPool2D(pool_size = (2,2)))\n",
    "model.add(Dropout(0.25))\n",
    "\n",
    "\n",
    "#fully connected layer and output\n",
    "model.add(Flatten())\n",
    "model.add(Dense(256, activation = \"relu\"))\n",
    "model.add(Dropout(0.25))\n",
    "model.add(Dense(14, activation = \"softmax\"))\n",
    "\n",
    "\n",
    "\n",
    "#Optmizer\n",
    "optimizer = RMSprop(lr = 0.001, rho = 0.9, epsilon = 1e-08, decay=0.0 )\n",
    "\n",
    "#Model Compile\n",
    "model.compile(optimizer = optimizer, loss = \"categorical_crossentropy\", metrics = [\"accuracy\"])\n",
    "\n",
    "\n",
    "#Learining Rate\n",
    "learning_rate_reduction = ReduceLROnPlateau(monitor = \"val_loss\", patience = 3, verbose = 1,\n",
    "                                            factor = 0.5, min_lr = 0.0001)\n",
    "\n"
   ]
  },
  {
   "cell_type": "code",
   "execution_count": 8,
   "metadata": {},
   "outputs": [],
   "source": [
    "#Prepare the image\n",
    "datagen = ImageDataGenerator(\n",
    "        featurewise_center=False,  # set input mean to 0 over the dataset\n",
    "        samplewise_center=False,  # set each sample mean to 0\n",
    "        featurewise_std_normalization=False,  # divide inputs by std of the dataset\n",
    "        samplewise_std_normalization=False,  # divide each input by its std\n",
    "        zca_whitening=False,  # apply ZCA whitening\n",
    "        rotation_range=10,  # randomly rotate images in the range (degrees, 0 to 180)\n",
    "        zoom_range = 0.1, # Randomly zoom image \n",
    "        width_shift_range=0.1,  # randomly shift images horizontally (fraction of total width)\n",
    "        height_shift_range=0.1,  # randomly shift images vertically (fraction of total height)\n",
    "        horizontal_flip=False,  # randomly flip images\n",
    "        vertical_flip=False)  # randomly flip images\n",
    "\n",
    "\n",
    "#Training and prepare\n",
    "datagen.fit(X_train)"
   ]
  },
  {
   "cell_type": "code",
   "execution_count": 9,
   "metadata": {},
   "outputs": [
    {
     "name": "stderr",
     "output_type": "stream",
     "text": [
      "C:\\Users\\mateu\\anaconda3\\lib\\site-packages\\keras\\engine\\training.py:1914: UserWarning: `Model.fit_generator` is deprecated and will be removed in a future version. Please use `Model.fit`, which supports generators.\n",
      "  warnings.warn('`Model.fit_generator` is deprecated and '\n"
     ]
    },
    {
     "name": "stdout",
     "output_type": "stream",
     "text": [
      "Epoch 1/15\n",
      "761/761 [==============================] - 575s 719ms/step - loss: 0.6396 - accuracy: 0.8086 - val_loss: 0.0411 - val_accuracy: 0.9868\n",
      "Epoch 2/15\n",
      "761/761 [==============================] - 549s 722ms/step - loss: 0.0898 - accuracy: 0.9734 - val_loss: 0.0389 - val_accuracy: 0.9882\n",
      "Epoch 3/15\n",
      "761/761 [==============================] - 572s 751ms/step - loss: 0.0702 - accuracy: 0.9793 - val_loss: 0.0276 - val_accuracy: 0.9921\n",
      "Epoch 4/15\n",
      "761/761 [==============================] - 554s 728ms/step - loss: 0.0587 - accuracy: 0.9833 - val_loss: 0.0357 - val_accuracy: 0.9896\n",
      "Epoch 5/15\n",
      "761/761 [==============================] - 579s 761ms/step - loss: 0.0545 - accuracy: 0.9837 - val_loss: 0.0346 - val_accuracy: 0.9915\n",
      "Epoch 6/15\n",
      "761/761 [==============================] - 554s 728ms/step - loss: 0.0564 - accuracy: 0.9850 - val_loss: 0.0263 - val_accuracy: 0.9924\n",
      "Epoch 7/15\n",
      "761/761 [==============================] - 552s 726ms/step - loss: 0.0546 - accuracy: 0.9844 - val_loss: 0.0324 - val_accuracy: 0.9926\n",
      "Epoch 8/15\n",
      "761/761 [==============================] - 549s 722ms/step - loss: 0.0531 - accuracy: 0.9850 - val_loss: 0.0606 - val_accuracy: 0.9841\n",
      "Epoch 9/15\n",
      "761/761 [==============================] - 553s 726ms/step - loss: 0.0538 - accuracy: 0.9864 - val_loss: 0.0350 - val_accuracy: 0.9931\n",
      "\n",
      "Epoch 00009: ReduceLROnPlateau reducing learning rate to 0.0005000000237487257.\n",
      "Epoch 10/15\n",
      "761/761 [==============================] - 541s 711ms/step - loss: 0.0409 - accuracy: 0.9890 - val_loss: 0.0364 - val_accuracy: 0.9930\n",
      "Epoch 11/15\n",
      "761/761 [==============================] - 567s 745ms/step - loss: 0.0376 - accuracy: 0.9902 - val_loss: 0.0320 - val_accuracy: 0.9937\n",
      "Epoch 12/15\n",
      "761/761 [==============================] - 552s 726ms/step - loss: 0.0417 - accuracy: 0.9890 - val_loss: 0.0267 - val_accuracy: 0.9931\n",
      "\n",
      "Epoch 00012: ReduceLROnPlateau reducing learning rate to 0.0002500000118743628.\n",
      "Epoch 13/15\n",
      "761/761 [==============================] - 548s 720ms/step - loss: 0.0329 - accuracy: 0.9904 - val_loss: 0.0290 - val_accuracy: 0.9924\n",
      "Epoch 14/15\n",
      "761/761 [==============================] - 545s 717ms/step - loss: 0.0333 - accuracy: 0.9909 - val_loss: 0.0252 - val_accuracy: 0.9942\n",
      "Epoch 15/15\n",
      "761/761 [==============================] - 533s 700ms/step - loss: 0.0340 - accuracy: 0.9909 - val_loss: 0.0441 - val_accuracy: 0.9923\n"
     ]
    }
   ],
   "source": [
    "#Training\n",
    "epochs = 15\n",
    "batch_size = 90\n",
    "\n",
    "\n",
    "history = model.fit_generator(datagen.flow(X_train,y_train, batch_size=batch_size),\n",
    "                              epochs = epochs, #An epoch is an iteration over the entire x and y data provided\n",
    "                              validation_data = (X_val,y_val), #Data on which to evaluate the loss and any model metrics at the end of each epoch. \n",
    "                              verbose = 1, #output\n",
    "                              steps_per_epoch=X_train.shape[0] // batch_size,  # Total number of steps (batches of samples) before declaring one epoch finished and starting the next epoch.\n",
    "                              callbacks=[learning_rate_reduction]                            \n",
    "                              )"
   ]
  },
  {
   "cell_type": "code",
   "execution_count": 10,
   "metadata": {},
   "outputs": [],
   "source": [
    "model.save('model.h5')"
   ]
  },
  {
   "cell_type": "code",
   "execution_count": 2,
   "metadata": {},
   "outputs": [],
   "source": [
    "from PIL import Image\n",
    "from itertools import groupby\n",
    "\n",
    "\n",
    "def predict(img=\"output.png\"):\n",
    "    #loading image\n",
    "    image = Image.open(img).convert(\"L\")\n",
    "    \n",
    "    \n",
    "    #Pre processing\n",
    "    w = image.size[0]\n",
    "    h = image.size[1]\n",
    "    r = w / h # aspect ratio\n",
    "    new_w = int(r * 28)\n",
    "    new_h = 28\n",
    "    new_image = image.resize((new_w, new_h))\n",
    "\n",
    "    #converting to a numpy array\n",
    "    new_image_arr = np.array(new_image)\n",
    "\n",
    "    #inverting the image to make background = 0\n",
    "    new_inv_image_arr = 255 - new_image_arr\n",
    "\n",
    "    #rescaling the image\n",
    "    final_image_arr = new_inv_image_arr / 255.0\n",
    "\n",
    "    #splitting image array into individual element arrays using non zero columns\n",
    "    m = final_image_arr.any(0)\n",
    "    out = [final_image_arr[:,[*g]] for k, g in groupby(np.arange(len(m)), lambda x: m[x] != 0) if k]\n",
    "\n",
    "\n",
    "    '''\n",
    "    iterating through the element arrays to resize them to match input \n",
    "    criteria of the model = [mini_batch_size, height, width, channels]\n",
    "    '''\n",
    "    num_of_elements = len(out)\n",
    "    elements_list = []\n",
    "    for x in range(0, num_of_elements):\n",
    "        img = out[x]\n",
    "\n",
    "        #adding 0 value columns as fillers\n",
    "        width = img.shape[1]\n",
    "        filler = (final_image_arr.shape[0] - width) / 2\n",
    "\n",
    "        if filler.is_integer() == False:    #odd number of filler columns\n",
    "            filler_l = int(filler)\n",
    "            filler_r = int(filler) + 1\n",
    "        else:                               #even number of filler columns\n",
    "            filler_l = int(filler)\n",
    "            filler_r = int(filler)\n",
    "\n",
    "        arr_l = np.zeros((final_image_arr.shape[0], filler_l)) #left fillers\n",
    "        arr_r = np.zeros((final_image_arr.shape[0], filler_r)) #right fillers\n",
    "\n",
    "        #concatinating the left and right fillers\n",
    "        help_ = np.concatenate((arr_l, img), axis= 1)\n",
    "        element_arr = np.concatenate((help_, arr_r), axis= 1)\n",
    "\n",
    "        element_arr.resize(28, 28, 1) #resize array 2d to 3d\n",
    "        #storing all elements in a list\n",
    "        elements_list.append(element_arr)\n",
    "    elements_array = np.array(elements_list)\n",
    "    \n",
    "    #reshaping to fit model input criteria'\n",
    "    elements_array = elements_array.reshape(-1, 28, 28, 1)\n",
    "    \n",
    "    #predicting using the created model'\n",
    "    model = keras.models.load_model(\"model.h5\")\n",
    "    elements_pred =  model.predict(elements_array)\n",
    "    elements_pred = np.argmax(elements_pred, axis = 1)\n",
    "    return elements_pred"
   ]
  },
  {
   "cell_type": "code",
   "execution_count": 8,
   "metadata": {},
   "outputs": [],
   "source": [
    "elements_pred = predict(\"output.png\")"
   ]
  },
  {
   "cell_type": "code",
   "execution_count": 9,
   "metadata": {},
   "outputs": [
    {
     "name": "stdout",
     "output_type": "stream",
     "text": [
      "Invalid predicted expression!!\n",
      "Following is the predicted expression:\n",
      " * 1\n"
     ]
    }
   ],
   "source": [
    "def math_expression_generator(arr):\n",
    "    \n",
    "    op = {\n",
    "              10,   # = \"/\"\n",
    "              11,   # = \"+\"\n",
    "              12,   # = \"-\"\n",
    "              13    # = \"*\"\n",
    "                  }   \n",
    "    \n",
    "    m_exp = []\n",
    "    temp = []\n",
    "        \n",
    "    #creating a list separating all elements\n",
    "    for item in arr:\n",
    "        if item not in op:\n",
    "            temp.append(item)\n",
    "        else:\n",
    "            m_exp.append(temp)\n",
    "            m_exp.append(item)\n",
    "            temp = []\n",
    "    if temp:\n",
    "        m_exp.append(temp)\n",
    "        \n",
    "    #converting the elements to numbers and operators\n",
    "    i = 0\n",
    "    num = 0\n",
    "    for item in m_exp:\n",
    "        if type(item) == list:\n",
    "            if not item:\n",
    "                m_exp[i] = \"\"\n",
    "                i = i + 1\n",
    "            else:\n",
    "                num_len = len(item)\n",
    "                for digit in item:\n",
    "                    num_len = num_len - 1\n",
    "                    num = num + ((10 ** num_len) * digit)\n",
    "                m_exp[i] = str(num)\n",
    "                num = 0\n",
    "                i = i + 1\n",
    "        else:\n",
    "            m_exp[i] = str(item)\n",
    "            m_exp[i] = m_exp[i].replace(\"10\",\"/\")\n",
    "            m_exp[i] = m_exp[i].replace(\"11\",\"+\")\n",
    "            m_exp[i] = m_exp[i].replace(\"12\",\"-\")\n",
    "            m_exp[i] = m_exp[i].replace(\"13\",\"*\")\n",
    "            \n",
    "            i = i + 1\n",
    "    \n",
    "    \n",
    "    #joining the list of strings to create the mathematical expression'\n",
    "    separator = ' '\n",
    "    m_exp_str = separator.join(m_exp)\n",
    "    \n",
    "    return (m_exp_str)\n",
    "\n",
    "#creating the mathematical expression'\n",
    "m_exp_str = math_expression_generator(elements_pred)\n",
    "\n",
    "#calculating the mathematical expression using eval()'\n",
    "while True:\n",
    "    try:\n",
    "        answer = eval(m_exp_str)    #evaluating the answer\n",
    "        answer = round(answer, 2)\n",
    "        equation  = m_exp_str + \" = \" + str(answer)\n",
    "        print(equation)   #printing the equation\n",
    "        break\n",
    "\n",
    "    except SyntaxError:\n",
    "        print(\"Invalid predicted expression!!\")\n",
    "        print(\"Following is the predicted expression:\")\n",
    "        print(m_exp_str)\n",
    "        break"
   ]
  }
 ],
 "metadata": {
  "kernelspec": {
   "display_name": "Python 3",
   "language": "python",
   "name": "python3"
  },
  "language_info": {
   "codemirror_mode": {
    "name": "ipython",
    "version": 3
   },
   "file_extension": ".py",
   "mimetype": "text/x-python",
   "name": "python",
   "nbconvert_exporter": "python",
   "pygments_lexer": "ipython3",
   "version": "3.7.6"
  }
 },
 "nbformat": 4,
 "nbformat_minor": 4
}
